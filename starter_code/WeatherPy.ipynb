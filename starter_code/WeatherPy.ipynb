{
 "cells": [
  {
   "cell_type": "markdown",
   "metadata": {},
   "source": [
    "# WeatherPy\n",
    "----\n",
    "\n",
    "#### Note\n",
    "* Instructions have been included for each segment. You do not have to follow them exactly, but they are included to help you think through the steps."
   ]
  },
  {
   "cell_type": "markdown",
   "metadata": {},
   "source": [
    "# Overall Trends\n",
    "### 1: The max temperature is felt closest to the equator, which is not too shocking.\n",
    "### 2: As you move closer to the North Pole, the wind speed increases. \n",
    "### 3: The level of cloudiness, or % of cloud coverage, is not really related to the location/latitude of your location. "
   ]
  },
  {
   "cell_type": "code",
   "execution_count": 1,
   "metadata": {
    "scrolled": true
   },
   "outputs": [],
   "source": [
    "# Dependencies and Setup\n",
    "import matplotlib.pyplot as plt\n",
    "import pandas as pd\n",
    "import numpy as np\n",
    "import requests\n",
    "import time\n",
    "from scipy.stats import linregress\n",
    "import json\n",
    "import requests\n",
    "#adding a dependency\n",
    "from datetime import datetime\n",
    "\n",
    "# Import API key\n",
    "from api_keys import weather_api_key\n",
    "\n",
    "# Incorporated citipy to determine city based on latitude and longitude\n",
    "from citipy import citipy\n",
    "\n",
    "# Output File (CSV)\n",
    "output_data_file = \"output_data/cities.csv\"\n",
    "\n",
    "# Range of latitudes and longitudes\n",
    "lat_range = (-90, 90)\n",
    "lng_range = (-180, 180)"
   ]
  },
  {
   "cell_type": "markdown",
   "metadata": {},
   "source": [
    "## Generate Cities List"
   ]
  },
  {
   "cell_type": "code",
   "execution_count": 2,
   "metadata": {},
   "outputs": [
    {
     "data": {
      "text/plain": [
       "619"
      ]
     },
     "execution_count": 2,
     "metadata": {},
     "output_type": "execute_result"
    }
   ],
   "source": [
    "# List for holding lat_lngs and cities\n",
    "lat_lngs = []\n",
    "cities = []\n",
    "\n",
    "# Create a set of random lat and lng combinations\n",
    "lats = np.random.uniform(lat_range[0], lat_range[1], size=1500)\n",
    "lngs = np.random.uniform(lng_range[0], lng_range[1], size=1500)\n",
    "lat_lngs = zip(lats, lngs)\n",
    "\n",
    "# Identify nearest city for each lat, lng combination\n",
    "for lat_lng in lat_lngs:\n",
    "    city = citipy.nearest_city(lat_lng[0], lat_lng[1]).city_name\n",
    "    \n",
    "    # If the city is unique, then add it to a our cities list\n",
    "    if city not in cities:\n",
    "        cities.append(city)\n",
    "\n",
    "# Print the city count to confirm sufficient count\n",
    "len(cities)"
   ]
  },
  {
   "cell_type": "markdown",
   "metadata": {},
   "source": [
    "### Perform API Calls\n",
    "* Perform a weather check on each city using a series of successive API calls.\n",
    "* Include a print log of each city as it'sbeing processed (with the city number and city name).\n"
   ]
  },
  {
   "cell_type": "code",
   "execution_count": 3,
   "metadata": {},
   "outputs": [],
   "source": [
    "#Building my url\n",
    "url = \"https://api.openweathermap.org/data/2.5/weather?\"\n",
    "appid = weather_api_key\n",
    "units = \"imperial\"\n",
    "query_url = f\"{url}appid={appid}&units={units}\""
   ]
  },
  {
   "cell_type": "code",
   "execution_count": 29,
   "metadata": {
    "scrolled": true
   },
   "outputs": [
    {
     "name": "stdout",
     "output_type": "stream",
     "text": [
      "Beginning Data Retrieval\n",
      "---------------------------\n",
      "Processing Record 1 of 619 | khatanga\n",
      "Processing Record 2 of 619 | avera\n",
      "Processing Record 3 of 619 | cherskiy\n",
      "Processing Record 4 of 619 | new richmond\n",
      "Processing Record 5 of 619 | illoqqortoormiut\n",
      "City not found. Skipping...\n",
      "Processing Record 6 of 619 | calama\n",
      "Processing Record 7 of 619 | jamestown\n",
      "Processing Record 8 of 619 | tikapur\n",
      "Processing Record 9 of 619 | narsaq\n",
      "Processing Record 10 of 619 | cape town\n",
      "Processing Record 11 of 619 | lebu\n",
      "Processing Record 12 of 619 | belushya guba\n",
      "City not found. Skipping...\n",
      "Processing Record 13 of 619 | nizhneyansk\n",
      "City not found. Skipping...\n",
      "Processing Record 14 of 619 | xining\n",
      "Processing Record 15 of 619 | east london\n",
      "Processing Record 16 of 619 | constitucion\n",
      "Processing Record 17 of 619 | ushuaia\n",
      "Processing Record 18 of 619 | busselton\n",
      "Processing Record 19 of 619 | saldanha\n",
      "Processing Record 20 of 619 | marrakesh\n",
      "Processing Record 21 of 619 | leningradskiy\n",
      "Processing Record 22 of 619 | kerouane\n",
      "Processing Record 23 of 619 | chokurdakh\n",
      "Processing Record 24 of 619 | yarke pole\n",
      "Processing Record 25 of 619 | callaguip\n",
      "Processing Record 26 of 619 | byron bay\n",
      "Processing Record 27 of 619 | bluff\n",
      "Processing Record 28 of 619 | grand river south east\n",
      "City not found. Skipping...\n",
      "Processing Record 29 of 619 | bajo baudo\n",
      "City not found. Skipping...\n",
      "Processing Record 30 of 619 | rungata\n",
      "City not found. Skipping...\n",
      "Processing Record 31 of 619 | uribia\n",
      "Processing Record 32 of 619 | hilo\n",
      "Processing Record 33 of 619 | atuona\n",
      "Processing Record 34 of 619 | yellowknife\n",
      "Processing Record 35 of 619 | macamic\n",
      "Processing Record 36 of 619 | longlac\n",
      "City not found. Skipping...\n",
      "Processing Record 37 of 619 | vaini\n",
      "Processing Record 38 of 619 | maningrida\n",
      "Processing Record 39 of 619 | lichuan\n",
      "Processing Record 40 of 619 | arman\n",
      "Processing Record 41 of 619 | dwarka\n",
      "Processing Record 42 of 619 | bethel\n",
      "Processing Record 43 of 619 | castro\n",
      "Processing Record 44 of 619 | kaitangata\n",
      "Processing Record 45 of 619 | warqla\n",
      "City not found. Skipping...\n",
      "Processing Record 46 of 619 | rikitea\n",
      "Processing Record 47 of 619 | kapaa\n",
      "Processing Record 48 of 619 | port hedland\n",
      "Processing Record 49 of 619 | lasa\n",
      "Processing Record 50 of 619 | mahebourg\n",
      "Processing Record 51 of 619 | punta arenas\n",
      "Processing Record 52 of 619 | poum\n",
      "Processing Record 53 of 619 | puerto ayora\n",
      "Processing Record 54 of 619 | blackwater\n",
      "Processing Record 55 of 619 | ribeira grande\n",
      "Processing Record 56 of 619 | thompson\n",
      "Processing Record 57 of 619 | arraial do cabo\n",
      "Processing Record 58 of 619 | oussouye\n",
      "Processing Record 59 of 619 | half moon bay\n",
      "Processing Record 60 of 619 | anadyr\n",
      "Processing Record 61 of 619 | bose\n",
      "Processing Record 62 of 619 | deniliquin\n",
      "Processing Record 63 of 619 | saleaula\n",
      "City not found. Skipping...\n",
      "Processing Record 64 of 619 | gboko\n",
      "Processing Record 65 of 619 | barentsburg\n",
      "City not found. Skipping...\n",
      "Processing Record 66 of 619 | mataura\n",
      "Processing Record 67 of 619 | puertollano\n",
      "Processing Record 68 of 619 | camapua\n",
      "Processing Record 69 of 619 | manaus\n",
      "Processing Record 70 of 619 | dikson\n",
      "Processing Record 71 of 619 | catacamas\n",
      "Processing Record 72 of 619 | coquimbo\n",
      "Processing Record 73 of 619 | belmonte\n",
      "Processing Record 74 of 619 | biak\n",
      "Processing Record 75 of 619 | hobart\n",
      "Processing Record 76 of 619 | mandalgovi\n",
      "Processing Record 77 of 619 | konya\n",
      "Processing Record 78 of 619 | ostrovnoy\n",
      "Processing Record 79 of 619 | nyurba\n",
      "Processing Record 80 of 619 | tiznit\n",
      "Processing Record 81 of 619 | provideniya\n",
      "Processing Record 82 of 619 | isangel\n",
      "Processing Record 83 of 619 | barranca\n",
      "Processing Record 84 of 619 | high rock\n",
      "Processing Record 85 of 619 | taolanaro\n",
      "City not found. Skipping...\n",
      "Processing Record 86 of 619 | isla vista\n",
      "Processing Record 87 of 619 | kamenskoye\n",
      "City not found. Skipping...\n",
      "Processing Record 88 of 619 | bredasdorp\n",
      "Processing Record 89 of 619 | tabiauea\n",
      "City not found. Skipping...\n",
      "Processing Record 90 of 619 | waraseoni\n",
      "Processing Record 91 of 619 | sitio novo do tocantins\n",
      "Processing Record 92 of 619 | lazarev\n",
      "Processing Record 93 of 619 | la paz\n",
      "Processing Record 94 of 619 | souillac\n",
      "Processing Record 95 of 619 | piacabucu\n",
      "Processing Record 96 of 619 | clyde river\n",
      "Processing Record 97 of 619 | pastavy\n",
      "Processing Record 98 of 619 | buon me thuot\n",
      "City not found. Skipping...\n",
      "Processing Record 99 of 619 | chandbali\n",
      "Processing Record 100 of 619 | srednekolymsk\n",
      "Processing Record 101 of 619 | mar del plata\n",
      "Processing Record 102 of 619 | codrington\n",
      "Processing Record 103 of 619 | sinazongwe\n",
      "Processing Record 104 of 619 | qaanaaq\n",
      "Processing Record 105 of 619 | kyabe\n",
      "Processing Record 106 of 619 | port alfred\n",
      "Processing Record 107 of 619 | adrar\n",
      "Processing Record 108 of 619 | vaitupu\n",
      "City not found. Skipping...\n",
      "Processing Record 109 of 619 | puerto escondido\n",
      "Processing Record 110 of 619 | saint george\n",
      "Processing Record 111 of 619 | muros\n",
      "Processing Record 112 of 619 | coihaique\n",
      "Processing Record 113 of 619 | taloda\n",
      "Processing Record 114 of 619 | aransas pass\n",
      "Processing Record 115 of 619 | maragogi\n",
      "Processing Record 116 of 619 | cayenne\n",
      "Processing Record 117 of 619 | torbay\n",
      "Processing Record 118 of 619 | pak phanang\n",
      "Processing Record 119 of 619 | tautira\n",
      "Processing Record 120 of 619 | almeirim\n",
      "Processing Record 121 of 619 | kavieng\n",
      "Processing Record 122 of 619 | albany\n",
      "Processing Record 123 of 619 | tiksi\n",
      "Processing Record 124 of 619 | alto araguaia\n",
      "Processing Record 125 of 619 | lompoc\n",
      "Processing Record 126 of 619 | oranienburg\n",
      "Processing Record 127 of 619 | sao miguel do araguaia\n",
      "Processing Record 128 of 619 | saskylakh\n",
      "Processing Record 129 of 619 | uaua\n",
      "Processing Record 130 of 619 | kudahuvadhoo\n",
      "Processing Record 131 of 619 | barrow\n",
      "Processing Record 132 of 619 | shchuchye\n",
      "City not found. Skipping...\n",
      "Processing Record 133 of 619 | san patricio\n",
      "Processing Record 134 of 619 | matamoros\n",
      "Processing Record 135 of 619 | tasiilaq\n",
      "Processing Record 136 of 619 | tuatapere\n",
      "Processing Record 137 of 619 | olinda\n",
      "Processing Record 138 of 619 | cairns\n",
      "Processing Record 139 of 619 | sibu\n",
      "Processing Record 140 of 619 | hermanus\n",
      "Processing Record 141 of 619 | macomb\n",
      "Processing Record 142 of 619 | satipo\n",
      "Processing Record 143 of 619 | husavik\n",
      "Processing Record 144 of 619 | attawapiskat\n",
      "City not found. Skipping...\n",
      "Processing Record 145 of 619 | alihe\n",
      "Processing Record 146 of 619 | katsuura\n",
      "Processing Record 147 of 619 | zaykovo\n",
      "Processing Record 148 of 619 | mahanje\n",
      "Processing Record 149 of 619 | kieta\n",
      "Processing Record 150 of 619 | achisay\n",
      "City not found. Skipping...\n",
      "Processing Record 151 of 619 | chuy\n",
      "Processing Record 152 of 619 | mount gambier\n",
      "Processing Record 153 of 619 | tuktoyaktuk\n",
      "Processing Record 154 of 619 | pampa\n",
      "Processing Record 155 of 619 | slave lake\n",
      "Processing Record 156 of 619 | sentyabrskiy\n",
      "City not found. Skipping...\n",
      "Processing Record 157 of 619 | carnarvon\n",
      "Processing Record 158 of 619 | ullo\n",
      "Processing Record 159 of 619 | cocobeach\n",
      "Processing Record 160 of 619 | amderma\n",
      "City not found. Skipping...\n",
      "Processing Record 161 of 619 | awbari\n",
      "Processing Record 162 of 619 | paita\n",
      "Processing Record 163 of 619 | hithadhoo\n",
      "Processing Record 164 of 619 | leh\n",
      "Processing Record 165 of 619 | port-cartier\n",
      "Processing Record 166 of 619 | ucluelet\n",
      "Processing Record 167 of 619 | valparaiso\n",
      "Processing Record 168 of 619 | teluk nibung\n",
      "Processing Record 169 of 619 | sitka\n",
      "Processing Record 170 of 619 | saryshagan\n",
      "City not found. Skipping...\n",
      "Processing Record 171 of 619 | port elizabeth\n",
      "Processing Record 172 of 619 | esperance\n",
      "Processing Record 173 of 619 | parbatipur\n",
      "Processing Record 174 of 619 | boden\n",
      "Processing Record 175 of 619 | jurado\n",
      "Processing Record 176 of 619 | talnakh\n",
      "Processing Record 177 of 619 | kruisfontein\n",
      "Processing Record 178 of 619 | jalu\n",
      "Processing Record 179 of 619 | westport\n",
      "Processing Record 180 of 619 | midland\n",
      "Processing Record 181 of 619 | kodiak\n",
      "Processing Record 182 of 619 | binga\n",
      "Processing Record 183 of 619 | gravdal\n",
      "Processing Record 184 of 619 | miles city\n",
      "Processing Record 185 of 619 | caravelas\n",
      "Processing Record 186 of 619 | tignere\n",
      "Processing Record 187 of 619 | tonj\n",
      "Processing Record 188 of 619 | new norfolk\n",
      "Processing Record 189 of 619 | mys shmidta\n",
      "City not found. Skipping...\n"
     ]
    },
    {
     "name": "stdout",
     "output_type": "stream",
     "text": [
      "Processing Record 190 of 619 | galesong\n",
      "Processing Record 191 of 619 | ponta do sol\n",
      "Processing Record 192 of 619 | vossevangen\n",
      "Processing Record 193 of 619 | gatesville\n",
      "Processing Record 194 of 619 | scottsbluff\n",
      "Processing Record 195 of 619 | xadani\n",
      "City not found. Skipping...\n",
      "Processing Record 196 of 619 | lorengau\n",
      "Processing Record 197 of 619 | launceston\n",
      "Processing Record 198 of 619 | iquique\n",
      "Processing Record 199 of 619 | saint-philippe\n",
      "Processing Record 200 of 619 | avarua\n",
      "Processing Record 201 of 619 | batagay-alyta\n",
      "Processing Record 202 of 619 | horodnytsya\n",
      "Processing Record 203 of 619 | pagudpud\n",
      "Processing Record 204 of 619 | klaksvik\n",
      "Processing Record 205 of 619 | jiblah\n",
      "Processing Record 206 of 619 | gasa\n",
      "Processing Record 207 of 619 | mana\n",
      "Processing Record 208 of 619 | haines junction\n",
      "Processing Record 209 of 619 | labuhan\n",
      "Processing Record 210 of 619 | bengkulu\n",
      "Processing Record 211 of 619 | geraldton\n",
      "Processing Record 212 of 619 | bukama\n",
      "Processing Record 213 of 619 | sur\n",
      "Processing Record 214 of 619 | cotonou\n",
      "Processing Record 215 of 619 | ulladulla\n",
      "Processing Record 216 of 619 | dogondoutchi\n",
      "Processing Record 217 of 619 | nandu\n",
      "Processing Record 218 of 619 | avdiyivka\n",
      "Processing Record 219 of 619 | khuldabad\n",
      "Processing Record 220 of 619 | ambon\n",
      "Processing Record 221 of 619 | khash\n",
      "Processing Record 222 of 619 | darnah\n",
      "Processing Record 223 of 619 | flagstaff\n",
      "Processing Record 224 of 619 | birzai\n",
      "Processing Record 225 of 619 | huangmei\n",
      "Processing Record 226 of 619 | faya\n",
      "Processing Record 227 of 619 | luderitz\n",
      "Processing Record 228 of 619 | boyuibe\n",
      "Processing Record 229 of 619 | lata\n",
      "Processing Record 230 of 619 | iqaluit\n",
      "Processing Record 231 of 619 | sabha\n",
      "Processing Record 232 of 619 | egvekinot\n",
      "Processing Record 233 of 619 | karpathos\n",
      "Processing Record 234 of 619 | saint-joseph\n",
      "Processing Record 235 of 619 | pailitas\n",
      "Processing Record 236 of 619 | lavrentiya\n",
      "Processing Record 237 of 619 | sherghati\n",
      "Processing Record 238 of 619 | changtu\n",
      "Processing Record 239 of 619 | nikolskoye\n",
      "Processing Record 240 of 619 | troitskoye\n",
      "Processing Record 241 of 619 | miguel hidalgo\n",
      "Processing Record 242 of 619 | angoche\n",
      "Processing Record 243 of 619 | butaritari\n",
      "Processing Record 244 of 619 | kobryn\n",
      "Processing Record 245 of 619 | tulum\n",
      "Processing Record 246 of 619 | sakakah\n",
      "Processing Record 247 of 619 | paamiut\n",
      "Processing Record 248 of 619 | georgetown\n",
      "Processing Record 249 of 619 | arlit\n",
      "Processing Record 250 of 619 | amboasary\n",
      "Processing Record 251 of 619 | pevek\n",
      "Processing Record 252 of 619 | upernavik\n",
      "Processing Record 253 of 619 | cabo san lucas\n",
      "Processing Record 254 of 619 | guerrero negro\n",
      "Processing Record 255 of 619 | atagay\n",
      "Processing Record 256 of 619 | gillette\n",
      "Processing Record 257 of 619 | sao filipe\n",
      "Processing Record 258 of 619 | formosa\n",
      "Processing Record 259 of 619 | morondava\n",
      "Processing Record 260 of 619 | tilichiki\n",
      "Processing Record 261 of 619 | san cristobal\n",
      "Processing Record 262 of 619 | sao sebastiao\n",
      "Processing Record 263 of 619 | severo-kurilsk\n",
      "Processing Record 264 of 619 | yatou\n",
      "Processing Record 265 of 619 | harnoli\n",
      "Processing Record 266 of 619 | apastovo\n",
      "Processing Record 267 of 619 | kenai\n",
      "Processing Record 268 of 619 | adlay\n",
      "Processing Record 269 of 619 | batemans bay\n",
      "Processing Record 270 of 619 | saint-michel-des-saints\n",
      "Processing Record 271 of 619 | shenkursk\n",
      "Processing Record 272 of 619 | soloneshnoye\n",
      "Processing Record 273 of 619 | beeville\n",
      "Processing Record 274 of 619 | cidreira\n",
      "Processing Record 275 of 619 | jaranwala\n",
      "Processing Record 276 of 619 | bambous virieux\n",
      "Processing Record 277 of 619 | dawlatabad\n",
      "Processing Record 278 of 619 | padang\n",
      "Processing Record 279 of 619 | norman wells\n",
      "Processing Record 280 of 619 | kamaishi\n",
      "Processing Record 281 of 619 | port macquarie\n",
      "Processing Record 282 of 619 | uyemskiy\n",
      "Processing Record 283 of 619 | ancud\n",
      "Processing Record 284 of 619 | samusu\n",
      "City not found. Skipping...\n",
      "Processing Record 285 of 619 | bowen\n",
      "Processing Record 286 of 619 | sadiqabad\n",
      "Processing Record 287 of 619 | bocana de paiwas\n",
      "Processing Record 288 of 619 | xiantao\n",
      "Processing Record 289 of 619 | kibala\n",
      "Processing Record 290 of 619 | asfi\n",
      "Processing Record 291 of 619 | rio gallegos\n",
      "Processing Record 292 of 619 | henties bay\n",
      "Processing Record 293 of 619 | dunedin\n",
      "Processing Record 294 of 619 | port-gentil\n",
      "Processing Record 295 of 619 | morro bay\n",
      "Processing Record 296 of 619 | kenora\n",
      "Processing Record 297 of 619 | vila\n",
      "Processing Record 298 of 619 | honiara\n",
      "Processing Record 299 of 619 | nahrin\n",
      "Processing Record 300 of 619 | yelanskiy\n",
      "Processing Record 301 of 619 | curitibanos\n",
      "Processing Record 302 of 619 | ozinki\n",
      "Processing Record 303 of 619 | faanui\n",
      "Processing Record 304 of 619 | saint-pierre\n",
      "Processing Record 305 of 619 | vila franca do campo\n",
      "Processing Record 306 of 619 | pisco\n",
      "Processing Record 307 of 619 | cukai\n",
      "Processing Record 308 of 619 | lolua\n",
      "City not found. Skipping...\n",
      "Processing Record 309 of 619 | airai\n",
      "Processing Record 310 of 619 | jiquilisco\n",
      "Processing Record 311 of 619 | hamilton\n",
      "Processing Record 312 of 619 | yaan\n",
      "Processing Record 313 of 619 | flin flon\n",
      "Processing Record 314 of 619 | alofi\n",
      "Processing Record 315 of 619 | svetlogorsk\n",
      "Processing Record 316 of 619 | sao joao da barra\n",
      "Processing Record 317 of 619 | dalvik\n",
      "Processing Record 318 of 619 | san francisco\n",
      "Processing Record 319 of 619 | aklavik\n",
      "Processing Record 320 of 619 | port blair\n",
      "Processing Record 321 of 619 | mayumba\n",
      "Processing Record 322 of 619 | ilulissat\n",
      "Processing Record 323 of 619 | lujan\n",
      "Processing Record 324 of 619 | barra patuca\n",
      "Processing Record 325 of 619 | ozgon\n",
      "City not found. Skipping...\n",
      "Processing Record 326 of 619 | santa maria\n",
      "Processing Record 327 of 619 | zhigansk\n",
      "Processing Record 328 of 619 | orahovac\n",
      "Processing Record 329 of 619 | novopokrovka\n",
      "Processing Record 330 of 619 | brits\n",
      "Processing Record 331 of 619 | tres palos\n",
      "Processing Record 332 of 619 | kamareddi\n",
      "Processing Record 333 of 619 | lewiston\n",
      "Processing Record 334 of 619 | waipawa\n",
      "Processing Record 335 of 619 | mayor pablo lagerenza\n",
      "Processing Record 336 of 619 | coahuayana\n",
      "Processing Record 337 of 619 | belaya gora\n",
      "Processing Record 338 of 619 | berck\n",
      "Processing Record 339 of 619 | tsihombe\n",
      "City not found. Skipping...\n",
      "Processing Record 340 of 619 | lakes entrance\n",
      "Processing Record 341 of 619 | narasannapeta\n",
      "Processing Record 342 of 619 | maniitsoq\n",
      "Processing Record 343 of 619 | talcahuano\n",
      "Processing Record 344 of 619 | pasighat\n",
      "Processing Record 345 of 619 | bathsheba\n",
      "Processing Record 346 of 619 | sterling\n",
      "Processing Record 347 of 619 | mackenzie\n",
      "Processing Record 348 of 619 | nacala\n",
      "Processing Record 349 of 619 | hasaki\n",
      "Processing Record 350 of 619 | ouagadougou\n",
      "Processing Record 351 of 619 | seddon\n",
      "Processing Record 352 of 619 | san lazaro\n",
      "Processing Record 353 of 619 | panama city\n",
      "Processing Record 354 of 619 | roros\n",
      "Processing Record 355 of 619 | omboue\n",
      "Processing Record 356 of 619 | kushmurun\n",
      "Processing Record 357 of 619 | vagur\n",
      "Processing Record 358 of 619 | verkhnevilyuysk\n",
      "Processing Record 359 of 619 | sorland\n",
      "Processing Record 360 of 619 | taoudenni\n",
      "Processing Record 361 of 619 | kryvyy rih\n",
      "Processing Record 362 of 619 | meulaboh\n",
      "Processing Record 363 of 619 | palu\n",
      "Processing Record 364 of 619 | semey\n",
      "Processing Record 365 of 619 | nguiu\n",
      "City not found. Skipping...\n",
      "Processing Record 366 of 619 | uvat\n",
      "Processing Record 367 of 619 | tazovskiy\n",
      "Processing Record 368 of 619 | fasa\n",
      "Processing Record 369 of 619 | fomboni\n",
      "Processing Record 370 of 619 | belen\n",
      "Processing Record 371 of 619 | maneciu\n",
      "Processing Record 372 of 619 | rolim de moura\n",
      "City not found. Skipping...\n",
      "Processing Record 373 of 619 | quchan\n",
      "Processing Record 374 of 619 | vardo\n",
      "Processing Record 375 of 619 | durusu\n",
      "Processing Record 376 of 619 | grindavik\n",
      "Processing Record 377 of 619 | canutama\n",
      "Processing Record 378 of 619 | formoso do araguaia\n",
      "City not found. Skipping...\n",
      "Processing Record 379 of 619 | tsiroanomandidy\n",
      "Processing Record 380 of 619 | puerto triunfo\n",
      "Processing Record 381 of 619 | aporawan\n",
      "City not found. Skipping...\n",
      "Processing Record 382 of 619 | palmer\n",
      "Processing Record 383 of 619 | majene\n",
      "Processing Record 384 of 619 | chilca\n",
      "Processing Record 385 of 619 | apatzingan\n"
     ]
    },
    {
     "name": "stdout",
     "output_type": "stream",
     "text": [
      "Processing Record 386 of 619 | nova olimpia\n",
      "Processing Record 387 of 619 | sao felix do xingu\n",
      "Processing Record 388 of 619 | aberdeen\n",
      "Processing Record 389 of 619 | kayes\n",
      "Processing Record 390 of 619 | harnosand\n",
      "Processing Record 391 of 619 | ukiah\n",
      "Processing Record 392 of 619 | aitape\n",
      "Processing Record 393 of 619 | hai phong\n",
      "City not found. Skipping...\n",
      "Processing Record 394 of 619 | champerico\n",
      "Processing Record 395 of 619 | westfield\n",
      "Processing Record 396 of 619 | moussoro\n",
      "Processing Record 397 of 619 | kroya\n",
      "Processing Record 398 of 619 | camargo\n",
      "Processing Record 399 of 619 | tevaitoa\n",
      "Processing Record 400 of 619 | itaituba\n",
      "Processing Record 401 of 619 | beloha\n",
      "Processing Record 402 of 619 | fukue\n",
      "Processing Record 403 of 619 | nanortalik\n",
      "Processing Record 404 of 619 | olkhovka\n",
      "Processing Record 405 of 619 | mitsamiouli\n",
      "Processing Record 406 of 619 | vao\n",
      "Processing Record 407 of 619 | capreol\n",
      "Processing Record 408 of 619 | victoria\n",
      "Processing Record 409 of 619 | cabedelo\n",
      "Processing Record 410 of 619 | nara\n",
      "Processing Record 411 of 619 | fort nelson\n",
      "Processing Record 412 of 619 | shigony\n",
      "Processing Record 413 of 619 | vung tau\n",
      "Processing Record 414 of 619 | monteagudo\n",
      "Processing Record 415 of 619 | shilka\n",
      "Processing Record 416 of 619 | kegayli\n",
      "City not found. Skipping...\n",
      "Processing Record 417 of 619 | alice springs\n",
      "Processing Record 418 of 619 | marsa matruh\n",
      "Processing Record 419 of 619 | veraval\n",
      "Processing Record 420 of 619 | mega piston\n",
      "City not found. Skipping...\n",
      "Processing Record 421 of 619 | kaposmero\n",
      "Processing Record 422 of 619 | rawannawi\n",
      "City not found. Skipping...\n",
      "Processing Record 423 of 619 | te anau\n",
      "Processing Record 424 of 619 | rheine\n",
      "Processing Record 425 of 619 | buchanan\n",
      "Processing Record 426 of 619 | tir pol\n",
      "City not found. Skipping...\n",
      "Processing Record 427 of 619 | dolbeau\n",
      "City not found. Skipping...\n",
      "Processing Record 428 of 619 | jishou\n",
      "Processing Record 429 of 619 | gizo\n",
      "Processing Record 430 of 619 | porto santo\n",
      "Processing Record 431 of 619 | sataua\n",
      "City not found. Skipping...\n",
      "Processing Record 432 of 619 | tongchuan\n",
      "Processing Record 433 of 619 | mehamn\n",
      "Processing Record 434 of 619 | laguna\n",
      "Processing Record 435 of 619 | dingle\n",
      "Processing Record 436 of 619 | saint-die\n",
      "City not found. Skipping...\n",
      "Processing Record 437 of 619 | lethem\n",
      "Processing Record 438 of 619 | basco\n",
      "Processing Record 439 of 619 | fairbanks\n",
      "Processing Record 440 of 619 | sola\n",
      "Processing Record 441 of 619 | tshikapa\n",
      "Processing Record 442 of 619 | los llanos de aridane\n",
      "Processing Record 443 of 619 | krosno\n",
      "Processing Record 444 of 619 | liverpool\n",
      "Processing Record 445 of 619 | thinadhoo\n",
      "Processing Record 446 of 619 | kralendijk\n",
      "Processing Record 447 of 619 | show low\n",
      "Processing Record 448 of 619 | rancho palos verdes\n",
      "Processing Record 449 of 619 | hereford\n",
      "Processing Record 450 of 619 | cap malheureux\n",
      "Processing Record 451 of 619 | havre\n",
      "Processing Record 452 of 619 | hualmay\n",
      "Processing Record 453 of 619 | changping\n",
      "Processing Record 454 of 619 | dauriya\n",
      "Processing Record 455 of 619 | khandyga\n",
      "Processing Record 456 of 619 | tumannyy\n",
      "City not found. Skipping...\n",
      "Processing Record 457 of 619 | cockburn town\n",
      "Processing Record 458 of 619 | tamasi\n",
      "Processing Record 459 of 619 | catamarca\n",
      "Processing Record 460 of 619 | lagoa\n",
      "Processing Record 461 of 619 | shache\n",
      "Processing Record 462 of 619 | assiniboia\n",
      "Processing Record 463 of 619 | asau\n",
      "Processing Record 464 of 619 | kalmunai\n",
      "Processing Record 465 of 619 | vila velha\n",
      "Processing Record 466 of 619 | banjar\n",
      "Processing Record 467 of 619 | andenes\n",
      "Processing Record 468 of 619 | prado\n",
      "Processing Record 469 of 619 | aleksandrovskoye\n",
      "Processing Record 470 of 619 | hohhot\n",
      "Processing Record 471 of 619 | sosnovka\n",
      "Processing Record 472 of 619 | salalah\n",
      "Processing Record 473 of 619 | acapulco\n",
      "Processing Record 474 of 619 | vaitape\n",
      "Processing Record 475 of 619 | bonfim\n",
      "Processing Record 476 of 619 | caala\n",
      "Processing Record 477 of 619 | radishchevo\n",
      "Processing Record 478 of 619 | khormuj\n",
      "City not found. Skipping...\n",
      "Processing Record 479 of 619 | mezen\n",
      "Processing Record 480 of 619 | yulara\n",
      "Processing Record 481 of 619 | eregli\n",
      "Processing Record 482 of 619 | beringovskiy\n",
      "Processing Record 483 of 619 | jablah\n",
      "Processing Record 484 of 619 | gat\n",
      "Processing Record 485 of 619 | raudeberg\n",
      "Processing Record 486 of 619 | san quintin\n",
      "Processing Record 487 of 619 | keningau\n",
      "Processing Record 488 of 619 | naze\n",
      "Processing Record 489 of 619 | tianpeng\n",
      "Processing Record 490 of 619 | rochester\n",
      "Processing Record 491 of 619 | saint-augustin\n",
      "Processing Record 492 of 619 | hongjiang\n",
      "Processing Record 493 of 619 | lodja\n",
      "Processing Record 494 of 619 | puerto narino\n",
      "Processing Record 495 of 619 | cascais\n",
      "Processing Record 496 of 619 | acajutla\n",
      "Processing Record 497 of 619 | khuzdar\n",
      "Processing Record 498 of 619 | bernal\n",
      "Processing Record 499 of 619 | shieli\n",
      "Processing Record 500 of 619 | turukhansk\n",
      "Processing Record 501 of 619 | port hardy\n",
      "Processing Record 502 of 619 | juneau\n",
      "Processing Record 503 of 619 | ambovombe\n",
      "Processing Record 504 of 619 | la ronge\n",
      "Processing Record 505 of 619 | serafimovskiy\n",
      "Processing Record 506 of 619 | alugan\n",
      "Processing Record 507 of 619 | beauvais\n",
      "Processing Record 508 of 619 | guantanamo\n",
      "Processing Record 509 of 619 | trelew\n",
      "Processing Record 510 of 619 | muriwai beach\n",
      "Processing Record 511 of 619 | ahipara\n",
      "Processing Record 512 of 619 | krasnaya gora\n",
      "Processing Record 513 of 619 | kuldur\n",
      "Processing Record 514 of 619 | pervomayskiy\n",
      "Processing Record 515 of 619 | masterton\n",
      "Processing Record 516 of 619 | sioux lookout\n",
      "Processing Record 517 of 619 | akdepe\n",
      "Processing Record 518 of 619 | waltershausen\n",
      "Processing Record 519 of 619 | shimoda\n",
      "Processing Record 520 of 619 | lazaro cardenas\n",
      "Processing Record 521 of 619 | huaiyuan\n",
      "Processing Record 522 of 619 | osorno\n",
      "Processing Record 523 of 619 | arequipa\n",
      "Processing Record 524 of 619 | ornskoldsvik\n",
      "Processing Record 525 of 619 | tank\n",
      "Processing Record 526 of 619 | daryapur\n",
      "Processing Record 527 of 619 | freeport\n",
      "Processing Record 528 of 619 | la romana\n",
      "Processing Record 529 of 619 | collie\n",
      "Processing Record 530 of 619 | batsfjord\n",
      "Processing Record 531 of 619 | kurchum\n",
      "Processing Record 532 of 619 | kiama\n",
      "Processing Record 533 of 619 | bonthe\n",
      "Processing Record 534 of 619 | manta\n",
      "Processing Record 535 of 619 | merano\n",
      "Processing Record 536 of 619 | papetoai\n",
      "Processing Record 537 of 619 | necochea\n",
      "Processing Record 538 of 619 | vostok\n",
      "Processing Record 539 of 619 | pyskowice\n",
      "Processing Record 540 of 619 | itarema\n",
      "Processing Record 541 of 619 | dassel\n",
      "Processing Record 542 of 619 | porto nacional\n",
      "Processing Record 543 of 619 | fortuna\n",
      "Processing Record 544 of 619 | samfya\n",
      "Processing Record 545 of 619 | colwyn bay\n",
      "Processing Record 546 of 619 | tabou\n",
      "Processing Record 547 of 619 | alyangula\n",
      "Processing Record 548 of 619 | kabanjahe\n",
      "Processing Record 549 of 619 | cap-aux-meules\n",
      "Processing Record 550 of 619 | columbus\n",
      "Processing Record 551 of 619 | solwezi\n",
      "Processing Record 552 of 619 | chiredzi\n",
      "Processing Record 553 of 619 | nagar karnul\n",
      "Processing Record 554 of 619 | riyadh\n",
      "Processing Record 555 of 619 | margate\n",
      "Processing Record 556 of 619 | nioro\n",
      "Processing Record 557 of 619 | panguna\n",
      "Processing Record 558 of 619 | gainesville\n",
      "Processing Record 559 of 619 | nemuro\n",
      "Processing Record 560 of 619 | aksarka\n",
      "Processing Record 561 of 619 | dien bien\n",
      "City not found. Skipping...\n",
      "Processing Record 562 of 619 | kahului\n",
      "Processing Record 563 of 619 | surt\n",
      "Processing Record 564 of 619 | zhuhai\n",
      "Processing Record 565 of 619 | copiapo\n",
      "Processing Record 566 of 619 | americus\n",
      "Processing Record 567 of 619 | duma\n",
      "Processing Record 568 of 619 | chupaca\n",
      "Processing Record 569 of 619 | rantepao\n",
      "Processing Record 570 of 619 | sedelnikovo\n",
      "City not found. Skipping...\n",
      "Processing Record 571 of 619 | havre-saint-pierre\n",
      "Processing Record 572 of 619 | ozernovskiy\n",
      "Processing Record 573 of 619 | yar-sale\n",
      "Processing Record 574 of 619 | bubaque\n",
      "Processing Record 575 of 619 | zhigalovo\n",
      "Processing Record 576 of 619 | umzimvubu\n",
      "City not found. Skipping...\n",
      "Processing Record 577 of 619 | price\n",
      "Processing Record 578 of 619 | ossora\n",
      "Processing Record 579 of 619 | aykhal\n",
      "Processing Record 580 of 619 | zarubino\n",
      "Processing Record 581 of 619 | markala\n"
     ]
    },
    {
     "name": "stdout",
     "output_type": "stream",
     "text": [
      "Processing Record 582 of 619 | makakilo city\n",
      "Processing Record 583 of 619 | namatanai\n",
      "Processing Record 584 of 619 | micomeseng\n",
      "Processing Record 585 of 619 | agadez\n",
      "Processing Record 586 of 619 | shebunino\n",
      "Processing Record 587 of 619 | derzhavinsk\n",
      "Processing Record 588 of 619 | rorvik\n",
      "Processing Record 589 of 619 | anloga\n",
      "Processing Record 590 of 619 | verkhoyansk\n",
      "Processing Record 591 of 619 | yumen\n",
      "Processing Record 592 of 619 | longyearbyen\n",
      "Processing Record 593 of 619 | benguela\n",
      "Processing Record 594 of 619 | ngukurr\n",
      "City not found. Skipping...\n",
      "Processing Record 595 of 619 | umm lajj\n",
      "Processing Record 596 of 619 | halifax\n",
      "Processing Record 597 of 619 | douentza\n",
      "Processing Record 598 of 619 | carutapera\n",
      "Processing Record 599 of 619 | shingu\n",
      "Processing Record 600 of 619 | mar de espanha\n",
      "Processing Record 601 of 619 | flinders\n",
      "Processing Record 602 of 619 | leshukonskoye\n",
      "Processing Record 603 of 619 | den helder\n",
      "Processing Record 604 of 619 | salvador\n",
      "Processing Record 605 of 619 | puyang\n",
      "Processing Record 606 of 619 | portobelo\n",
      "Processing Record 607 of 619 | imbituba\n",
      "Processing Record 608 of 619 | barawe\n",
      "City not found. Skipping...\n",
      "Processing Record 609 of 619 | baykalovo\n",
      "Processing Record 610 of 619 | tawkar\n",
      "City not found. Skipping...\n",
      "Processing Record 611 of 619 | saint-denis\n",
      "Processing Record 612 of 619 | ambilobe\n",
      "Processing Record 613 of 619 | nantucket\n",
      "Processing Record 614 of 619 | visby\n",
      "Processing Record 615 of 619 | klamath falls\n",
      "Processing Record 616 of 619 | sungaipenuh\n",
      "Processing Record 617 of 619 | lisala\n",
      "Processing Record 618 of 619 | ridgecrest\n",
      "Processing Record 619 of 619 | udachnyy\n",
      "---------------------------\n",
      "Data Retrieval Complete\n",
      "---------------------------\n"
     ]
    }
   ],
   "source": [
    "#Making a list for the api request\n",
    "city_weather = []\n",
    "\n",
    "#Fulfilling print requirement as starter code specified\n",
    "print(\"Beginning Data Retrieval\")\n",
    "print(\"---------------------------\")\n",
    "\n",
    "#Create a loop for api call\n",
    "count=1\n",
    "for city in cities:\n",
    "    query_url = f\"{url}appid={appid}&units={units}&q={city}\"\n",
    "    \n",
    "    #Print statement as starter code requested\n",
    "    print('Processing Record ' + str(count) + ' of ' + str(len(cities)) + ' | ' + city)\n",
    "    \n",
    "    #Run api request for each city\n",
    "    try:\n",
    "        \n",
    "        city_weather_request = requests.get(query_url).json()\n",
    "        \n",
    "        #Converting request to variables\n",
    "        city_name = city_weather_request[\"name\"]\n",
    "        city_lat = city_weather_request[\"coord\"][\"lat\"]\n",
    "        city_long = city_weather_request[\"coord\"][\"lon\"]\n",
    "        city_max_temp = city_weather_request[\"main\"][\"temp_max\"]\n",
    "        city_humidity = city_weather_request[\"main\"][\"humidity\"]\n",
    "        city_cloudiness = city_weather_request[\"clouds\"][\"all\"]\n",
    "        city_windspeed = city_weather_request[\"wind\"][\"speed\"]\n",
    "        city_country = city_weather_request[\"sys\"][\"country\"]\n",
    "        city_date = city_weather_request[\"dt\"]\n",
    "        \n",
    "        #Converting these into columns in dataframe \n",
    "        city_weather.append({\"City\": city_name,\n",
    "                            \"Lat\": city_lat,\n",
    "                            \"Long\": city_long,\n",
    "                            \"Max Temp\": city_max_temp,\n",
    "                            \"Humidity\": city_humidity,\n",
    "                            \"Cloudiness\": city_cloudiness,\n",
    "                            \"Wind Speed\": city_windspeed,\n",
    "                            \"Country\": city_country,\n",
    "                            \"Date\": city_date})\n",
    "        \n",
    "    except:\n",
    "        \n",
    "        print(\"City not found. Skipping...\")\n",
    "    count=count+1\n",
    "    pass\n",
    "\n",
    "print(\"---------------------------\")\n",
    "print(\"Data Retrieval Complete\")\n",
    "print(\"---------------------------\")\n"
   ]
  },
  {
   "cell_type": "markdown",
   "metadata": {},
   "source": [
    "### Convert Raw Data to DataFrame\n",
    "* Export the city data into a .csv.\n",
    "* Display the DataFrame"
   ]
  },
  {
   "cell_type": "code",
   "execution_count": 30,
   "metadata": {},
   "outputs": [
    {
     "data": {
      "text/plain": [
       "City          572\n",
       "Lat           572\n",
       "Long          572\n",
       "Max Temp      572\n",
       "Humidity      572\n",
       "Cloudiness    572\n",
       "Wind Speed    572\n",
       "Country       572\n",
       "Date          572\n",
       "dtype: int64"
      ]
     },
     "execution_count": 30,
     "metadata": {},
     "output_type": "execute_result"
    }
   ],
   "source": [
    "#Converting City Weather Dict to DataFrame\n",
    "city_weather_pd = pd.DataFrame(city_weather)\n",
    "\n",
    "#Exporting into a csv\n",
    "city_weather_pd.to_csv(\"WeatherPy.csv\",index=False)\n",
    "\n",
    "#Showing a count\n",
    "city_weather_pd.count()"
   ]
  },
  {
   "cell_type": "code",
   "execution_count": 31,
   "metadata": {},
   "outputs": [
    {
     "data": {
      "text/html": [
       "<div>\n",
       "<style scoped>\n",
       "    .dataframe tbody tr th:only-of-type {\n",
       "        vertical-align: middle;\n",
       "    }\n",
       "\n",
       "    .dataframe tbody tr th {\n",
       "        vertical-align: top;\n",
       "    }\n",
       "\n",
       "    .dataframe thead th {\n",
       "        text-align: right;\n",
       "    }\n",
       "</style>\n",
       "<table border=\"1\" class=\"dataframe\">\n",
       "  <thead>\n",
       "    <tr style=\"text-align: right;\">\n",
       "      <th></th>\n",
       "      <th>City</th>\n",
       "      <th>Lat</th>\n",
       "      <th>Long</th>\n",
       "      <th>Max Temp</th>\n",
       "      <th>Humidity</th>\n",
       "      <th>Cloudiness</th>\n",
       "      <th>Wind Speed</th>\n",
       "      <th>Country</th>\n",
       "      <th>Date</th>\n",
       "    </tr>\n",
       "  </thead>\n",
       "  <tbody>\n",
       "    <tr>\n",
       "      <th>0</th>\n",
       "      <td>Khatanga</td>\n",
       "      <td>71.9667</td>\n",
       "      <td>102.5000</td>\n",
       "      <td>59.52</td>\n",
       "      <td>59</td>\n",
       "      <td>72</td>\n",
       "      <td>8.48</td>\n",
       "      <td>RU</td>\n",
       "      <td>1659929088</td>\n",
       "    </tr>\n",
       "    <tr>\n",
       "      <th>1</th>\n",
       "      <td>Avera</td>\n",
       "      <td>33.1940</td>\n",
       "      <td>-82.5271</td>\n",
       "      <td>77.05</td>\n",
       "      <td>78</td>\n",
       "      <td>96</td>\n",
       "      <td>4.21</td>\n",
       "      <td>US</td>\n",
       "      <td>1659929089</td>\n",
       "    </tr>\n",
       "    <tr>\n",
       "      <th>2</th>\n",
       "      <td>Cherskiy</td>\n",
       "      <td>68.7500</td>\n",
       "      <td>161.3000</td>\n",
       "      <td>52.03</td>\n",
       "      <td>48</td>\n",
       "      <td>44</td>\n",
       "      <td>5.35</td>\n",
       "      <td>RU</td>\n",
       "      <td>1659929089</td>\n",
       "    </tr>\n",
       "    <tr>\n",
       "      <th>3</th>\n",
       "      <td>New Richmond</td>\n",
       "      <td>45.1230</td>\n",
       "      <td>-92.5366</td>\n",
       "      <td>65.10</td>\n",
       "      <td>96</td>\n",
       "      <td>100</td>\n",
       "      <td>8.05</td>\n",
       "      <td>US</td>\n",
       "      <td>1659929090</td>\n",
       "    </tr>\n",
       "    <tr>\n",
       "      <th>4</th>\n",
       "      <td>Calama</td>\n",
       "      <td>-22.4667</td>\n",
       "      <td>-68.9333</td>\n",
       "      <td>45.77</td>\n",
       "      <td>20</td>\n",
       "      <td>0</td>\n",
       "      <td>5.97</td>\n",
       "      <td>CL</td>\n",
       "      <td>1659929090</td>\n",
       "    </tr>\n",
       "  </tbody>\n",
       "</table>\n",
       "</div>"
      ],
      "text/plain": [
       "           City      Lat      Long  Max Temp  Humidity  Cloudiness  \\\n",
       "0      Khatanga  71.9667  102.5000     59.52        59          72   \n",
       "1         Avera  33.1940  -82.5271     77.05        78          96   \n",
       "2      Cherskiy  68.7500  161.3000     52.03        48          44   \n",
       "3  New Richmond  45.1230  -92.5366     65.10        96         100   \n",
       "4        Calama -22.4667  -68.9333     45.77        20           0   \n",
       "\n",
       "   Wind Speed Country        Date  \n",
       "0        8.48      RU  1659929088  \n",
       "1        4.21      US  1659929089  \n",
       "2        5.35      RU  1659929089  \n",
       "3        8.05      US  1659929090  \n",
       "4        5.97      CL  1659929090  "
      ]
     },
     "execution_count": 31,
     "metadata": {},
     "output_type": "execute_result"
    }
   ],
   "source": [
    "#Displaying my city weather DataFrame\n",
    "city_weather_pd.head()"
   ]
  },
  {
   "cell_type": "markdown",
   "metadata": {},
   "source": [
    "## Inspect the data and remove the cities where the humidity > 100%.\n",
    "----\n",
    "Skip this step if there are no cities that have humidity > 100%. "
   ]
  },
  {
   "cell_type": "code",
   "execution_count": 7,
   "metadata": {},
   "outputs": [
    {
     "data": {
      "text/plain": [
       "City             78.2186\n",
       "Lat              78.2186\n",
       "Long             78.2186\n",
       "Max Temp          103.64\n",
       "Humidity             100\n",
       "Cloudiness           100\n",
       "Wind Speed         34.07\n",
       "Country               ZW\n",
       "Date          1659923965\n",
       "dtype: object"
      ]
     },
     "execution_count": 7,
     "metadata": {},
     "output_type": "execute_result"
    }
   ],
   "source": [
    "city_weather_pd.max()"
   ]
  },
  {
   "cell_type": "code",
   "execution_count": null,
   "metadata": {},
   "outputs": [],
   "source": [
    "#  Get the indices of cities that have humidity over 100%."
   ]
  },
  {
   "cell_type": "code",
   "execution_count": null,
   "metadata": {},
   "outputs": [],
   "source": [
    "# Make a new DataFrame equal to the city data to drop all humidity outliers by index.\n",
    "# Passing \"inplace=False\" will make a copy of the city_data DataFrame, which we call \"clean_city_data\"."
   ]
  },
  {
   "cell_type": "markdown",
   "metadata": {},
   "source": [
    "## Plotting the Data\n",
    "* Use proper labeling of the plots using plot titles (including date of analysis) and axes labels.\n",
    "* Save the plotted figures as .pngs."
   ]
  },
  {
   "cell_type": "markdown",
   "metadata": {},
   "source": [
    "## Latitude vs. Temperature Plot"
   ]
  },
  {
   "cell_type": "code",
   "execution_count": 8,
   "metadata": {},
   "outputs": [
    {
     "data": {
      "image/png": "[encoded data removed]",
      "text/plain": [
       "<Figure size 432x288 with 1 Axes>"
      ]
     },
     "metadata": {
      "needs_background": "light"
     },
     "output_type": "display_data"
    },
    {
     "data": {
      "text/plain": [
       "<Figure size 432x288 with 0 Axes>"
      ]
     },
     "metadata": {},
     "output_type": "display_data"
    }
   ],
   "source": [
    "plt.scatter(city_weather_pd['Lat'], city_weather_pd['Max Temp'])\n",
    "plt.title('City Latitude vs Max Temp' + ' (' +str(datetime.now().date()) + ')')\n",
    "plt.ylabel(\"Max Temp (F)\")\n",
    "plt.xlabel(\"Latitiude\")\n",
    "plt.show()\n",
    "\n",
    "# Save the figure:\n",
    "plt.savefig('../output_data/LatitudeTemp')"
   ]
  },
  {
   "cell_type": "markdown",
   "metadata": {},
   "source": [
    "This plot is looking at all latitudes across the world and how the location affects the max temperature. Generally, the closer to 0 latitude a human is the warmer the temperature. "
   ]
  },
  {
   "cell_type": "markdown",
   "metadata": {},
   "source": [
    "## Latitude vs. Humidity Plot"
   ]
  },
  {
   "cell_type": "code",
   "execution_count": 9,
   "metadata": {},
   "outputs": [
    {
     "data": {
      "image/png": "[encoded data removed]",
      "text/plain": [
       "<Figure size 432x288 with 1 Axes>"
      ]
     },
     "metadata": {
      "needs_background": "light"
     },
     "output_type": "display_data"
    },
    {
     "data": {
      "text/plain": [
       "<Figure size 432x288 with 0 Axes>"
      ]
     },
     "metadata": {},
     "output_type": "display_data"
    }
   ],
   "source": [
    "plt.scatter(city_weather_pd['Lat'], city_weather_pd['Humidity'])\n",
    "plt.title('City Latitude vs Humidity' + ' (' +str(datetime.now().date()) + ')')\n",
    "plt.ylabel(\"Humidty %\")\n",
    "plt.xlabel(\"Latitude\")\n",
    "plt.show()\n",
    "\n",
    "# Save the figure:\n",
    "plt.savefig('../output_data/LatitudeHumid')"
   ]
  },
  {
   "cell_type": "markdown",
   "metadata": {},
   "source": [
    "Here we are looking at the entire world again by latitude in comparison to the humidity %. Here there appears to be less of a correlation between latitude and humidity as the scatter plot shows data points with no real trend. "
   ]
  },
  {
   "cell_type": "markdown",
   "metadata": {},
   "source": [
    "## Latitude vs. Cloudiness Plot"
   ]
  },
  {
   "cell_type": "code",
   "execution_count": 10,
   "metadata": {},
   "outputs": [
    {
     "data": {
      "image/png": "[encoded data removed]",
      "text/plain": [
       "<Figure size 432x288 with 1 Axes>"
      ]
     },
     "metadata": {
      "needs_background": "light"
     },
     "output_type": "display_data"
    },
    {
     "data": {
      "text/plain": [
       "<Figure size 432x288 with 0 Axes>"
      ]
     },
     "metadata": {},
     "output_type": "display_data"
    }
   ],
   "source": [
    "plt.scatter(city_weather_pd['Lat'], city_weather_pd['Cloudiness'])\n",
    "plt.title('City Latitude vs Cloudiness' + ' (' +str(datetime.now().date()) + ')')\n",
    "plt.ylabel(\"% of Cloud Coverage\")\n",
    "plt.xlabel(\"Latitude\")\n",
    "plt.show()\n",
    "\n",
    "# Save the figure:\n",
    "plt.savefig('../output_data/LatitudeCloud')"
   ]
  },
  {
   "cell_type": "markdown",
   "metadata": {},
   "source": [
    "Here we are looking at how latitude affects cloudiness % or the % of cloud coverage. Again, there is no real correlation or trend between the two as the data is shown to be pretty scattered. "
   ]
  },
  {
   "cell_type": "markdown",
   "metadata": {},
   "source": [
    "## Latitude vs. Wind Speed Plot"
   ]
  },
  {
   "cell_type": "code",
   "execution_count": 11,
   "metadata": {},
   "outputs": [
    {
     "data": {
      "image/png": "[encoded data removed]",
      "text/plain": [
       "<Figure size 432x288 with 1 Axes>"
      ]
     },
     "metadata": {
      "needs_background": "light"
     },
     "output_type": "display_data"
    },
    {
     "data": {
      "text/plain": [
       "<Figure size 432x288 with 0 Axes>"
      ]
     },
     "metadata": {},
     "output_type": "display_data"
    }
   ],
   "source": [
    "plt.scatter(city_weather_pd['Lat'], city_weather_pd['Wind Speed'])\n",
    "plt.title('City Latitude vs Windspeed' + ' (' +str(datetime.now().date()) + ')')\n",
    "plt.ylabel(\"Wind Speed (mph)\")\n",
    "plt.xlabel(\"Latitude\")\n",
    "plt.show()\n",
    "\n",
    "# Save the figure:\n",
    "plt.savefig('../output_data/LatitudeWind')"
   ]
  },
  {
   "cell_type": "markdown",
   "metadata": {},
   "source": [
    "Lastly, here we are looking at how latitude affects wind speed in miles per hour. It appears that as you approach higher latitudes in the northern region, as latitude approaches 80, the more the wind speed increases. "
   ]
  },
  {
   "cell_type": "markdown",
   "metadata": {},
   "source": [
    "## Linear Regression"
   ]
  },
  {
   "cell_type": "code",
   "execution_count": 12,
   "metadata": {},
   "outputs": [],
   "source": [
    "#First I need to split the data set into Northern and Southern hemispheres. According to Nat Geo, the Northern hemishere is anything greater that lat > 0 and the opposite for the southern hemisphere. (https://education.nationalgeographic.org/resource/hemisphere)\n",
    "north_city_data = city_weather_pd[city_weather_pd['Lat'] >= 0]\n",
    "\n",
    "south_city_data = city_weather_pd[city_weather_pd['Lat'] <= 0]"
   ]
  },
  {
   "cell_type": "markdown",
   "metadata": {},
   "source": [
    "####  Northern Hemisphere - Max Temp vs. Latitude Linear Regression"
   ]
  },
  {
   "cell_type": "code",
   "execution_count": 13,
   "metadata": {},
   "outputs": [
    {
     "data": {
      "image/png": "[encoded data removed]",
      "text/plain": [
       "<Figure size 432x288 with 1 Axes>"
      ]
     },
     "metadata": {
      "needs_background": "light"
     },
     "output_type": "display_data"
    },
    {
     "data": {
      "text/plain": [
       "<Figure size 432x288 with 0 Axes>"
      ]
     },
     "metadata": {},
     "output_type": "display_data"
    }
   ],
   "source": [
    "#separating into x & y axis\n",
    "x_axis = north_city_data['Lat']\n",
    "y_axis = north_city_data['Max Temp']\n",
    "\n",
    "#linear regression set up\n",
    "(slope, intercept, rvalue, pvalue, stderr) = linregress(x_axis, y_axis)\n",
    "\n",
    "#getting regression values/setting up linear regression line\n",
    "regress_values = x_axis * slope + intercept\n",
    "lin_reg = 'y = ' + str(round(slope,2)) + 'x + ' + str(round(intercept,2))\n",
    "\n",
    "#plotting scatter plot & regression line\n",
    "plt.scatter(x_axis, y_axis)\n",
    "plt.plot(x_axis, regress_values, 'red')\n",
    "\n",
    "#title & axis & linear regression equation\n",
    "plt.title(\"Northern Hemisphere vs Max Temp Linear Regression\")\n",
    "plt.ylabel(\"Max Temp (F)\")\n",
    "plt.xlabel(\"Latitude (Northern Hemisphere)\")\n",
    "plt.annotate(lin_reg,(10,40),fontsize=15,color=\"red\")\n",
    "plt.show()\n",
    "\n",
    "# Save the figure:\n",
    "plt.savefig('../output_data/NorthernLatitudeTemp')"
   ]
  },
  {
   "cell_type": "markdown",
   "metadata": {},
   "source": [
    "In this plot we are looking at how latitude in the northern hemisphere affects the max temperature. The data and linear regression show that as you go more north, the cooler the weather becomes. "
   ]
  },
  {
   "cell_type": "markdown",
   "metadata": {},
   "source": [
    "####  Southern Hemisphere - Max Temp vs. Latitude Linear Regression"
   ]
  },
  {
   "cell_type": "code",
   "execution_count": 14,
   "metadata": {},
   "outputs": [
    {
     "data": {
      "image/png": "[encoded data removed]",
      "text/plain": [
       "<Figure size 432x288 with 1 Axes>"
      ]
     },
     "metadata": {
      "needs_background": "light"
     },
     "output_type": "display_data"
    },
    {
     "data": {
      "text/plain": [
       "<Figure size 432x288 with 0 Axes>"
      ]
     },
     "metadata": {},
     "output_type": "display_data"
    }
   ],
   "source": [
    "#separating into x & y axis\n",
    "x_axis2 = south_city_data['Lat']\n",
    "y_axis2 = south_city_data['Max Temp']\n",
    "\n",
    "#linear regression set up\n",
    "(slope2, intercept2, rvalue2, pvalue2, stderr2) = linregress(x_axis2, y_axis2)\n",
    "\n",
    "#getting regression values/setting up linear regression line\n",
    "regress_values2 = x_axis2 * slope2 + intercept2\n",
    "lin_reg2 = 'y = ' + str(round(slope2,2)) + 'x + ' + str(round(intercept2,2))\n",
    "\n",
    "#plotting scatter plot & regression line\n",
    "plt.scatter(x_axis2, y_axis2)\n",
    "plt.plot(x_axis2, regress_values2, 'red')\n",
    "\n",
    "#title & axis & linear regression equation\n",
    "plt.title(\"Southern Hemisphere vs Max Temp Linear Regression\")\n",
    "plt.ylabel(\"Max Temp (F)\")\n",
    "plt.xlabel(\"Latitude (Southern Hemisphere)\")\n",
    "plt.annotate(lin_reg2,(-50,80),fontsize=15,color=\"red\")\n",
    "plt.show()\n",
    "\n",
    "# Save the figure:\n",
    "plt.savefig('../output_data/SouthernLatitudeTemp')"
   ]
  },
  {
   "cell_type": "markdown",
   "metadata": {},
   "source": [
    "Here we are again looking at how latitude affects the max temperature but in the southern hemisphere. As the latitude increases, goes to closer to 0, the max temp also increases which is shown by the scatter plot and linear regression. "
   ]
  },
  {
   "cell_type": "markdown",
   "metadata": {},
   "source": [
    "####  Northern Hemisphere - Humidity (%) vs. Latitude Linear Regression"
   ]
  },
  {
   "cell_type": "code",
   "execution_count": 15,
   "metadata": {},
   "outputs": [
    {
     "data": {
      "image/png": "[encoded data removed]",
      "text/plain": [
       "<Figure size 432x288 with 1 Axes>"
      ]
     },
     "metadata": {
      "needs_background": "light"
     },
     "output_type": "display_data"
    },
    {
     "data": {
      "text/plain": [
       "<Figure size 432x288 with 0 Axes>"
      ]
     },
     "metadata": {},
     "output_type": "display_data"
    }
   ],
   "source": [
    "x_axis = north_city_data['Lat']\n",
    "y_axis3 = north_city_data['Humidity']\n",
    "\n",
    "#linear regression set up\n",
    "(slope3, intercept3, rvalue3, pvalue3, stderr3) = linregress(x_axis, y_axis3)\n",
    "\n",
    "#getting regression values/setting up linear regression line\n",
    "regress_values3 = x_axis * slope3 + intercept3\n",
    "lin_reg3 = 'y = ' + str(round(slope3,2)) + 'x + ' + str(round(intercept3,2))\n",
    "\n",
    "#plotting scatter plot & regression line\n",
    "plt.scatter(x_axis, y_axis3)\n",
    "plt.plot(x_axis, regress_values3, 'red')\n",
    "\n",
    "#title & axis & linear regression equation\n",
    "plt.title(\"Northern Hemisphere vs Humidity % Linear Regression\")\n",
    "plt.ylabel(\"Humidity %\")\n",
    "plt.xlabel(\"Latitude (Northern Hemisphere)\")\n",
    "plt.annotate(lin_reg3,(60,20),fontsize=15,color=\"red\")\n",
    "plt.show()\n",
    "\n",
    "# Save the figure:\n",
    "plt.savefig('../output_data/NorthernLatitudeHumid')"
   ]
  },
  {
   "cell_type": "markdown",
   "metadata": {},
   "source": [
    "In this plot we are looking at the latitudes of the northern hemisphere and how it affects the humidity. There appears to be no real relation between the two which is why the slope is very close to 0. "
   ]
  },
  {
   "cell_type": "markdown",
   "metadata": {},
   "source": [
    "####  Southern Hemisphere - Humidity (%) vs. Latitude Linear Regression"
   ]
  },
  {
   "cell_type": "code",
   "execution_count": 16,
   "metadata": {},
   "outputs": [
    {
     "data": {
      "image/png": "[encoded data removed]",
      "text/plain": [
       "<Figure size 432x288 with 1 Axes>"
      ]
     },
     "metadata": {
      "needs_background": "light"
     },
     "output_type": "display_data"
    },
    {
     "data": {
      "text/plain": [
       "<Figure size 432x288 with 0 Axes>"
      ]
     },
     "metadata": {},
     "output_type": "display_data"
    }
   ],
   "source": [
    "x_axis2 = south_city_data['Lat']\n",
    "y_axis4 = south_city_data['Humidity']\n",
    "\n",
    "#linear regression set up\n",
    "(slope4, intercept4, rvalue4, pvalue4, stderr4) = linregress(x_axis2, y_axis4)\n",
    "\n",
    "#getting regression values/setting up linear regression line\n",
    "regress_values4 = x_axis2 * slope4 + intercept4\n",
    "lin_reg4 = 'y = ' + str(round(slope4,2)) + 'x + ' + str(round(intercept4,2))\n",
    "\n",
    "#plotting scatter plot & regression line\n",
    "plt.scatter(x_axis2, y_axis4)\n",
    "plt.plot(x_axis2, regress_values4, 'red')\n",
    "\n",
    "#title & axis & linear regression equation\n",
    "plt.title(\"Southern Hemisphere vs Humidity % Linear Regression\")\n",
    "plt.ylabel(\"Humidity %\")\n",
    "plt.xlabel(\"Latitude (Southern Hemisphere)\")\n",
    "plt.annotate(lin_reg4,(-55,20),fontsize=15,color=\"red\")\n",
    "plt.show()\n",
    "\n",
    "# Save the figure:\n",
    "plt.savefig('../output_data/SouthernLatitudeTemp')"
   ]
  },
  {
   "cell_type": "markdown",
   "metadata": {},
   "source": [
    "Here we are again looking at how latitude affects humidty, but this time in the southern hemisphere. There appears to be more of a correlation between the two than in the northern hemisphere, but overall the data shows a very small relation between the humidity and latitude. "
   ]
  },
  {
   "cell_type": "markdown",
   "metadata": {},
   "source": [
    "####  Northern Hemisphere - Cloudiness (%) vs. Latitude Linear Regression"
   ]
  },
  {
   "cell_type": "code",
   "execution_count": 17,
   "metadata": {},
   "outputs": [
    {
     "data": {
      "image/png": "[encoded data removed]",
      "text/plain": [
       "<Figure size 432x288 with 1 Axes>"
      ]
     },
     "metadata": {
      "needs_background": "light"
     },
     "output_type": "display_data"
    },
    {
     "data": {
      "text/plain": [
       "<Figure size 432x288 with 0 Axes>"
      ]
     },
     "metadata": {},
     "output_type": "display_data"
    }
   ],
   "source": [
    "x_axis = north_city_data['Lat']\n",
    "y_axis5 = north_city_data['Cloudiness']\n",
    "\n",
    "#linear regression set up\n",
    "(slope5, intercept5, rvalue5, pvalue5, stderr5) = linregress(x_axis, y_axis5)\n",
    "\n",
    "#getting regression values/setting up linear regression line\n",
    "regress_values5 = x_axis * slope5 + intercept5\n",
    "lin_reg5 = 'y = ' + str(round(slope5,2)) + 'x + ' + str(round(intercept5,2))\n",
    "\n",
    "#plotting scatter plot & regression line\n",
    "plt.scatter(x_axis, y_axis5)\n",
    "plt.plot(x_axis, regress_values5, 'red')\n",
    "\n",
    "#title & axis & linear regression equation\n",
    "plt.title(\"Northern Hemisphere vs Cloudiness % Linear Regression\")\n",
    "plt.ylabel(\"Cloudiness %\")\n",
    "plt.xlabel(\"Latitude (Northern Hemisphere)\")\n",
    "plt.annotate(lin_reg3,(60,40),fontsize=15,color=\"red\")\n",
    "plt.show()\n",
    "\n",
    "# Save the figure:\n",
    "plt.savefig('../output_data/NorthernLatitudeCloud')"
   ]
  },
  {
   "cell_type": "markdown",
   "metadata": {},
   "source": [
    "In this plot we are looking at how latitude affects the cloudiness in the northern hemisphere. The data is very scattered and there is a very weak relationship between the two variables, which again is why the slope of the regression line is so close to 0. "
   ]
  },
  {
   "cell_type": "markdown",
   "metadata": {},
   "source": [
    "####  Southern Hemisphere - Cloudiness (%) vs. Latitude Linear Regression"
   ]
  },
  {
   "cell_type": "code",
   "execution_count": 20,
   "metadata": {},
   "outputs": [
    {
     "data": {
      "image/png": "[encoded data removed]",
      "text/plain": [
       "<Figure size 432x288 with 1 Axes>"
      ]
     },
     "metadata": {
      "needs_background": "light"
     },
     "output_type": "display_data"
    },
    {
     "data": {
      "text/plain": [
       "<Figure size 432x288 with 0 Axes>"
      ]
     },
     "metadata": {},
     "output_type": "display_data"
    }
   ],
   "source": [
    "x_axis2 = south_city_data['Lat']\n",
    "y_axis6 = south_city_data['Cloudiness']\n",
    "\n",
    "#linear regression set up\n",
    "(slope6, intercept6, rvalue6, pvalue6, stderr6) = linregress(x_axis2, y_axis6)\n",
    "\n",
    "#getting regression values/setting up linear regression line\n",
    "regress_values6 = x_axis2 * slope6 + intercept6\n",
    "lin_reg6 = 'y = ' + str(round(slope6,2)) + 'x + ' + str(round(intercept6,2))\n",
    "\n",
    "#plotting scatter plot & regression line\n",
    "plt.scatter(x_axis2, y_axis6)\n",
    "plt.plot(x_axis2, regress_values6, 'red')\n",
    "\n",
    "#title & axis & linear regression equation\n",
    "plt.title(\"Southern Hemisphere vs Cloudiness % Linear Regression\")\n",
    "plt.ylabel(\"Cloudiness %\")\n",
    "plt.xlabel(\"Latitude (Southern Hemisphere)\")\n",
    "plt.annotate(lin_reg4,(-55,55),fontsize=15,color=\"red\")\n",
    "plt.show()\n",
    "\n",
    "# Save the figure:\n",
    "plt.savefig('../output_data/SouthernLatitudeCloud')"
   ]
  },
  {
   "cell_type": "markdown",
   "metadata": {},
   "source": [
    "Here we are looking at the southern hemisphere latitudes and how they affect the cloudiness. This plot again shows a stronger relationship than the northern hemisphere between the two variables but this relationship is not all that strong. "
   ]
  },
  {
   "cell_type": "markdown",
   "metadata": {},
   "source": [
    "####  Northern Hemisphere - Wind Speed (mph) vs. Latitude Linear Regression"
   ]
  },
  {
   "cell_type": "code",
   "execution_count": 21,
   "metadata": {},
   "outputs": [
    {
     "data": {
      "image/png": "[encoded data removed]",
      "text/plain": [
       "<Figure size 432x288 with 1 Axes>"
      ]
     },
     "metadata": {
      "needs_background": "light"
     },
     "output_type": "display_data"
    },
    {
     "data": {
      "text/plain": [
       "<Figure size 432x288 with 0 Axes>"
      ]
     },
     "metadata": {},
     "output_type": "display_data"
    }
   ],
   "source": [
    "x_axis = north_city_data['Lat']\n",
    "y_axis7 = north_city_data['Wind Speed']\n",
    "\n",
    "#linear regression set up\n",
    "(slope7, intercept7, rvalue7, pvalue7, stderr7) = linregress(x_axis, y_axis7)\n",
    "\n",
    "#getting regression values/setting up linear regression line\n",
    "regress_values7 = x_axis * slope7 + intercept7\n",
    "lin_reg7 = 'y = ' + str(round(slope7,2)) + 'x + ' + str(round(intercept7,2))\n",
    "\n",
    "#plotting scatter plot & regression line\n",
    "plt.scatter(x_axis, y_axis7)\n",
    "plt.plot(x_axis, regress_values7, 'red')\n",
    "\n",
    "#title & axis & linear regression equation\n",
    "plt.title(\"Northern Hemisphere vs Wind Speed Linear Regression\")\n",
    "plt.ylabel(\"Wind Speed (mph)\")\n",
    "plt.xlabel(\"Latitude (Northern Hemisphere)\")\n",
    "plt.annotate(lin_reg3,(5,25),fontsize=15,color=\"red\")\n",
    "plt.show()\n",
    "\n",
    "# Save the figure:\n",
    "plt.savefig('../output_data/NorthernLatitudeWind')"
   ]
  },
  {
   "cell_type": "markdown",
   "metadata": {},
   "source": [
    "In this plot we are looking at the relationship between the latitude in the northern hemisphere and the windspeed. There doesnt appear to be too strong of a relationship although the data is grouped towards lower windspeeds as a whole. "
   ]
  },
  {
   "cell_type": "markdown",
   "metadata": {},
   "source": [
    "####  Southern Hemisphere - Wind Speed (mph) vs. Latitude Linear Regression"
   ]
  },
  {
   "cell_type": "code",
   "execution_count": 22,
   "metadata": {},
   "outputs": [
    {
     "data": {
      "image/png": "[encoded data removed]",
      "text/plain": [
       "<Figure size 432x288 with 1 Axes>"
      ]
     },
     "metadata": {
      "needs_background": "light"
     },
     "output_type": "display_data"
    },
    {
     "data": {
      "text/plain": [
       "<Figure size 432x288 with 0 Axes>"
      ]
     },
     "metadata": {},
     "output_type": "display_data"
    }
   ],
   "source": [
    "x_axis2 = south_city_data['Lat']\n",
    "y_axis8 = south_city_data['Wind Speed']\n",
    "\n",
    "#linear regression set up\n",
    "(slope8, intercept8, rvalue8, pvalue8, stderr8) = linregress(x_axis2, y_axis8)\n",
    "\n",
    "#getting regression values/setting up linear regression line\n",
    "regress_values8 = x_axis2 * slope8 + intercept8\n",
    "lin_reg8 = 'y = ' + str(round(slope8,2)) + 'x + ' + str(round(intercept8,2))\n",
    "\n",
    "#plotting scatter plot & regression line\n",
    "plt.scatter(x_axis2, y_axis8)\n",
    "plt.plot(x_axis2, regress_values8, 'red')\n",
    "\n",
    "#title & axis & linear regression equation\n",
    "plt.title(\"Southern Hemisphere vs Wind Speed Linear Regression\")\n",
    "plt.ylabel(\"Wind Speed (mph)\")\n",
    "plt.xlabel(\"Latitude (Southern Hemisphere)\")\n",
    "plt.annotate(lin_reg4,(-55,27),fontsize=15,color=\"red\")\n",
    "plt.show()\n",
    "\n",
    "# Save the figure:\n",
    "plt.savefig('../output_data/SouthernLatitudeWind')"
   ]
  },
  {
   "cell_type": "markdown",
   "metadata": {},
   "source": [
    "And lastly, we are looking at a plot showing the relationship between the latitude in the southern hemisphere and windwpeed. As you approach 0 degrees, or the equator the wind speed decreases, but it is not all that strong of a relationship. "
   ]
  }
 ],
 "metadata": {
  "anaconda-cloud": {},
  "kernel_info": {
   "name": "python3"
  },
  "kernelspec": {
   "display_name": "PythonData",
   "language": "python",
   "name": "pythondata"
  },
  "language_info": {
   "codemirror_mode": {
    "name": "ipython",
    "version": 3
   },
   "file_extension": ".py",
   "mimetype": "text/x-python",
   "name": "python",
   "nbconvert_exporter": "python",
   "pygments_lexer": "ipython3",
   "version": "3.7.7"
  },
  "latex_envs": {
   "LaTeX_envs_menu_present": true,
   "autoclose": false,
   "autocomplete": true,
   "bibliofile": "biblio.bib",
   "cite_by": "apalike",
   "current_citInitial": 1,
   "eqLabelWithNumbers": true,
   "eqNumInitial": 1,
   "hotkeys": {
    "equation": "Ctrl-E",
    "itemize": "Ctrl-I"
   },
   "labels_anchors": false,
   "latex_user_defs": false,
   "report_style_numbering": false,
   "user_envs_cfg": false
  },
  "nteract": {
   "version": "0.12.3"
  }
 },
 "nbformat": 4,
 "nbformat_minor": 2
}
